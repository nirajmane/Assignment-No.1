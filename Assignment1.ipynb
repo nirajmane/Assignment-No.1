{
 "cells": [
  {
   "cell_type": "code",
   "execution_count": 1,
   "metadata": {},
   "outputs": [
    {
     "name": "stdout",
     "output_type": "stream",
     "text": [
      "20\n",
      "1600\n"
     ]
    }
   ],
   "source": [
    "a = 80\n",
    "b = a*int(input(\"\"))\n",
    "print(b)"
   ]
  },
  {
   "cell_type": "code",
   "execution_count": 2,
   "metadata": {},
   "outputs": [
    {
     "name": "stdout",
     "output_type": "stream",
     "text": [
      "20\n",
      "1600\n"
     ]
    }
   ],
   "source": [
    "a = 80\n",
    "b = a*int(input(\"\"))\n",
    "print(b)"
   ]
  },
  {
   "cell_type": "code",
   "execution_count": 3,
   "metadata": {},
   "outputs": [
    {
     "name": "stdout",
     "output_type": "stream",
     "text": [
      "72\n",
      "5760\n"
     ]
    }
   ],
   "source": [
    "a = 80\n",
    "b = a*int(input(\"\"))\n",
    "print(b)"
   ]
  },
  {
   "cell_type": "code",
   "execution_count": 4,
   "metadata": {},
   "outputs": [
    {
     "name": "stdout",
     "output_type": "stream",
     "text": [
      "7\n",
      "560\n"
     ]
    }
   ],
   "source": [
    "a = 80\n",
    "b = a*int(input(\"\"))\n",
    "print(b)"
   ]
  },
  {
   "cell_type": "code",
   "execution_count": 5,
   "metadata": {},
   "outputs": [
    {
     "name": "stdout",
     "output_type": "stream",
     "text": [
      "35\n",
      "2800\n"
     ]
    }
   ],
   "source": [
    "a = 80\n",
    "b = a*int(input(\"\"))\n",
    "print(b)"
   ]
  },
  {
   "cell_type": "code",
   "execution_count": 6,
   "metadata": {},
   "outputs": [
    {
     "name": "stdout",
     "output_type": "stream",
     "text": [
      "23\n",
      "1840\n"
     ]
    }
   ],
   "source": [
    "a = 80\n",
    "b = a*int(input(\"\"))\n",
    "print(b)"
   ]
  },
  {
   "cell_type": "code",
   "execution_count": 7,
   "metadata": {},
   "outputs": [
    {
     "name": "stdout",
     "output_type": "stream",
     "text": [
      "95\n",
      "7600\n"
     ]
    }
   ],
   "source": [
    "a = 80\n",
    "b = a*int(input(\"\"))\n",
    "print(b)"
   ]
  },
  {
   "cell_type": "code",
   "execution_count": 8,
   "metadata": {},
   "outputs": [
    {
     "name": "stdout",
     "output_type": "stream",
     "text": [
      "18\n",
      "1440\n"
     ]
    }
   ],
   "source": [
    "a = 80\n",
    "b = a*int(input(\"\"))\n",
    "print(b)"
   ]
  },
  {
   "cell_type": "markdown",
   "metadata": {},
   "source": [
    "# Question NO.3\n"
   ]
  },
  {
   "cell_type": "code",
   "execution_count": 9,
   "metadata": {},
   "outputs": [
    {
     "name": "stdout",
     "output_type": "stream",
     "text": [
      "Cost Prise:20\n",
      "Selling Prise:30\n",
      "Profit\n"
     ]
    }
   ],
   "source": [
    "no1 = int(input(\"Cost Prise:\"))\n",
    "no2 = int(input(\"Selling Prise:\"))\n",
    "if no1<no2:\n",
    "    print(\"Profit\")\n",
    "elif no1>no2:\n",
    "    print(\"Loss\")\n",
    "else:\n",
    "    print(\"Neither\")"
   ]
  },
  {
   "cell_type": "code",
   "execution_count": 10,
   "metadata": {},
   "outputs": [
    {
     "name": "stdout",
     "output_type": "stream",
     "text": [
      "Cost Prise:20\n",
      "Selling Prise:10\n",
      "Loss\n"
     ]
    }
   ],
   "source": [
    "no1 = int(input(\"Cost Prise:\"))\n",
    "no2 = int(input(\"Selling Prise:\"))\n",
    "if no1<no2:\n",
    "    print(\"Profit\")\n",
    "elif no1>no2:\n",
    "    print(\"Loss\")\n",
    "else:\n",
    "    print(\"Neither\")"
   ]
  },
  {
   "cell_type": "code",
   "execution_count": 11,
   "metadata": {},
   "outputs": [
    {
     "name": "stdout",
     "output_type": "stream",
     "text": [
      "Cost Prise:20\n",
      "Selling Prise:20\n",
      "Neither\n"
     ]
    }
   ],
   "source": [
    "no1 = int(input(\"Cost Prise:\"))\n",
    "no2 = int(input(\"Selling Prise:\"))\n",
    "if no1<no2:\n",
    "    print(\"Profit\")\n",
    "elif no1>no2:\n",
    "    print(\"Loss\")\n",
    "else:\n",
    "    print(\"Neither\")"
   ]
  },
  {
   "cell_type": "code",
   "execution_count": 12,
   "metadata": {},
   "outputs": [
    {
     "name": "stdout",
     "output_type": "stream",
     "text": [
      "Cost Prise:19\n",
      "Selling Prise:19\n",
      "Neither\n"
     ]
    }
   ],
   "source": [
    "no1 = int(input(\"Cost Prise:\"))\n",
    "no2 = int(input(\"Selling Prise:\"))\n",
    "if no1<no2:\n",
    "    print(\"Profit\")\n",
    "elif no1>no2:\n",
    "    print(\"Loss\")\n",
    "else:\n",
    "    print(\"Neither\")"
   ]
  },
  {
   "cell_type": "code",
   "execution_count": 14,
   "metadata": {},
   "outputs": [
    {
     "name": "stdout",
     "output_type": "stream",
     "text": [
      "Cost Prise:23\n",
      "Selling Prise:7\n",
      "Loss\n"
     ]
    }
   ],
   "source": [
    "no1 = int(input(\"Cost Prise:\"))\n",
    "no2 = int(input(\"Selling Prise:\"))\n",
    "if no1<no2:\n",
    "    print(\"Profit\")\n",
    "elif no1>no2:\n",
    "    print(\"Loss\")\n",
    "else:\n",
    "    print(\"Neither\")"
   ]
  },
  {
   "cell_type": "code",
   "execution_count": 15,
   "metadata": {},
   "outputs": [
    {
     "name": "stdout",
     "output_type": "stream",
     "text": [
      "Cost Prise:19\n",
      "Selling Prise:95\n",
      "Profit\n"
     ]
    }
   ],
   "source": [
    "no1 = int(input(\"Cost Prise:\"))\n",
    "no2 = int(input(\"Selling Prise:\"))\n",
    "if no1<no2:\n",
    "    print(\"Profit\")\n",
    "elif no1>no2:\n",
    "    print(\"Loss\")\n",
    "else:\n",
    "    print(\"Neither\")"
   ]
  },
  {
   "cell_type": "markdown",
   "metadata": {},
   "source": [
    "# Question No.2"
   ]
  },
  {
   "cell_type": "code",
   "execution_count": 16,
   "metadata": {},
   "outputs": [
    {
     "name": "stdout",
     "output_type": "stream",
     "text": [
      "LETS UPGRADE\n"
     ]
    }
   ],
   "source": [
    "print(\"LETS UPGRADE\")"
   ]
  },
  {
   "cell_type": "markdown",
   "metadata": {},
   "source": [
    "# Question No.1"
   ]
  },
  {
   "cell_type": "code",
   "execution_count": null,
   "metadata": {},
   "outputs": [],
   "source": [
    "RAINBOW"
   ]
  }
 ],
 "metadata": {
  "kernelspec": {
   "display_name": "Python 3",
   "language": "python",
   "name": "python3"
  },
  "language_info": {
   "codemirror_mode": {
    "name": "ipython",
    "version": 3
   },
   "file_extension": ".py",
   "mimetype": "text/x-python",
   "name": "python",
   "nbconvert_exporter": "python",
   "pygments_lexer": "ipython3",
   "version": "3.8.3"
  }
 },
 "nbformat": 4,
 "nbformat_minor": 4
}
